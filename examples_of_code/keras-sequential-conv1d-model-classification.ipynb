{
 "cells": [
  {
   "metadata": {
    "trusted": true,
    "_uuid": "6e7b6f6347f596f78b3a8fb88cb7a820541998b1"
   },
   "cell_type": "code",
   "source": [
    "#path\n",
    "import os\n",
    "from os.path import isdir, join\n",
    "from pathlib import Path\n",
    "\n",
    "# Scientific Math \n",
    "import numpy as np\n",
    "from scipy.fftpack import fft\n",
    "from scipy import signal\n",
    "from scipy.io import wavfile\n",
    "from sklearn.model_selection import train_test_split\n",
    "\n",
    "# Visualization\n",
    "import matplotlib.pyplot as plt\n",
    "import tensorflow as tf\n",
    "import plotly.offline as py\n",
    "import plotly.graph_objs as go\n",
    "\n",
    "#Deep learning\n",
    "from tensorflow import keras\n",
    "from keras.layers import Dense, Dropout, Flatten\n",
    "from keras import Input, layers\n",
    "from keras import backend as K\n",
    "\n",
    "import random\n",
    "import copy\n",
    "import librosa\n",
    "import sounddevice as sd\n",
    "\n",
    "%matplotlib inline"
   ],
   "execution_count": 147,
   "outputs": []
  },
  {
   "metadata": {
    "trusted": true,
    "_uuid": "bb0bfbe942e8dc8e6bf4864b7ec66212734657bb"
   },
   "cell_type": "code",
   "source": [
    "print(os.listdir(\"../data\"))\n"
   ],
   "execution_count": 148,
   "outputs": [
    {
     "name": "stdout",
     "output_type": "stream",
     "text": [
      "['.DS_Store', 'test', 'train']\n"
     ]
    }
   ]
  },
  {
   "metadata": {
    "trusted": true,
    "_uuid": "1979ce525c49d97564617560c48fe00e40707b17"
   },
   "cell_type": "code",
   "source": [
    "train_audio_path = '../data/train/audio/'\n",
    "print(os.listdir(train_audio_path))"
   ],
   "execution_count": 149,
   "outputs": [
    {
     "name": "stdout",
     "output_type": "stream",
     "text": [
      "['right', 'eight', 'cat', 'tree', 'bed', 'happy', 'go', '.DS_Store', 'dog', 'no', 'wow', 'nine', 'left', 'code', 'stop', 'three', '_background_noise_', 'sheila', 'one', 'bird', 'zero', 'seven', 'up', 'marvin', 'two', 'house', 'down', 'six', 'yes', 'on', 'five', 'off', 'four']\n"
     ]
    }
   ]
  },
  {
   "metadata": {
    "_uuid": "bc717705d62e8a2a312a983f59ab0406c0e0329b"
   },
   "cell_type": "markdown",
   "source": [
    "### Load Data\n",
    "\n",
    "target list is ['yes', 'no', 'up', 'down', 'left', 'right', 'on', 'off', 'stop', 'go']\n",
    "unknown list is other\n",
    "silence will be made from '_background_noise_'\n",
    "\n",
    "Train data's sampling rate is 16000Hz, but for making lower computation cost, Resample to 8000hz\n",
    "\n",
    "After training, test set also will resample to 8000Hz"
   ]
  },
  {
   "metadata": {
    "trusted": true,
    "_uuid": "baf56ce3fd56eb7c6dd4b5d088105a631654071e"
   },
   "cell_type": "code",
   "source": [
    "dirs = [f for f in os.listdir(train_audio_path) if isdir(join(train_audio_path, f))]\n",
    "dirs.sort()\n",
    "print('Number of labels: ' + str(len(dirs[1:])))\n",
    "print(dirs)"
   ],
   "execution_count": 150,
   "outputs": [
    {
     "name": "stdout",
     "output_type": "stream",
     "text": [
      "Number of labels: 31\n",
      "['_background_noise_', 'bed', 'bird', 'cat', 'code', 'dog', 'down', 'eight', 'five', 'four', 'go', 'happy', 'house', 'left', 'marvin', 'nine', 'no', 'off', 'on', 'one', 'right', 'seven', 'sheila', 'six', 'stop', 'three', 'tree', 'two', 'up', 'wow', 'yes', 'zero']\n"
     ]
    }
   ]
  },
  {
   "cell_type": "code",
   "execution_count": 151,
   "outputs": [
    {
     "name": "stdout",
     "output_type": "stream",
     "text": [
      "target_list : ['code', 'yes', 'no', 'up', 'down', 'left', 'right', 'on', 'off', 'stop', 'go']\n",
      "unknowns_list : ['bed', 'bird', 'cat', 'dog', 'eight', 'five', 'four', 'happy', 'house', 'marvin', 'nine', 'one', 'seven', 'sheila', 'six', 'three', 'tree', 'two', 'wow', 'zero']\n",
      "silence : _background_noise_\n"
     ]
    },
    {
     "name": "stderr",
     "output_type": "stream",
     "text": [
      "/var/folders/4v/sw011n6n73n99lwpjk6j8klm0000gp/T/ipykernel_9744/1332444937.py:17: FutureWarning:\n",
      "\n",
      "Pass orig_sr=22050, target_sr=8000 as keyword args. From version 0.10 passing these as positional arguments will result in an error\n",
      "\n"
     ]
    },
    {
     "name": "stdout",
     "output_type": "stream",
     "text": [
      "1:bed "
     ]
    },
    {
     "name": "stderr",
     "output_type": "stream",
     "text": [
      "/var/folders/4v/sw011n6n73n99lwpjk6j8klm0000gp/T/ipykernel_9744/1332444937.py:27: FutureWarning:\n",
      "\n",
      "Pass orig_sr=16000, target_sr=8000 as keyword args. From version 0.10 passing these as positional arguments will result in an error\n",
      "\n"
     ]
    },
    {
     "name": "stdout",
     "output_type": "stream",
     "text": [
      "2:bird 3:cat 4:code 5:dog 6:down 7:eight 8:five 9:four 10:go 11:happy 12:house 13:left 14:marvin 15:nine 16:no 17:off 18:on 19:one 20:right 21:seven 22:sheila 23:six 24:stop 25:three 26:tree 27:two 28:up 29:wow 30:yes 31:zero "
     ]
    }
   ],
   "source": [
    "all_wav = []\n",
    "unknown_wav = []\n",
    "label_all = []\n",
    "label_value = {}\n",
    "target_list = ['code', 'yes', 'no', 'up', 'down', 'left', 'right', 'on', 'off', 'stop', 'go']\n",
    "unknown_list = [d for d in dirs if d not in target_list and d != '_background_noise_' ]\n",
    "print('target_list : ',end='')\n",
    "print(target_list)\n",
    "print('unknowns_list : ', end='')\n",
    "print(unknown_list)\n",
    "print('silence : _background_noise_')\n",
    "i=0;\n",
    "background = [f for f in os.listdir(join(train_audio_path, '_background_noise_')) if f.endswith('.wav')]\n",
    "background_noise = []\n",
    "for wav in background :\n",
    "    samples, sample_rate = librosa.load(join(join(train_audio_path,'_background_noise_'),wav))\n",
    "    samples = librosa.resample(samples, sample_rate, 8000)\n",
    "    background_noise.append(samples)\n",
    "\n",
    "for direct in dirs[1:]:\n",
    "    waves = [f for f in os.listdir(join(train_audio_path, direct)) if f.endswith('.wav')]\n",
    "    label_value[direct] = i\n",
    "    i = i + 1\n",
    "    print(str(i)+\":\" +str(direct) + \" \", end=\"\")\n",
    "    for wav in waves:\n",
    "        samples, sample_rate = librosa.load(join(join(train_audio_path,direct),wav), sr = 16000)\n",
    "        samples = librosa.resample(samples, sample_rate, 8000)\n",
    "        if len(samples) != 8000 :\n",
    "            continue\n",
    "\n",
    "        if direct in unknown_list:\n",
    "            unknown_wav.append(samples)\n",
    "        else:\n",
    "            label_all.append(direct)\n",
    "            all_wav.append([samples, direct])"
   ],
   "metadata": {
    "collapsed": false
   }
  },
  {
   "cell_type": "markdown",
   "source": [
    "split wav, label"
   ],
   "metadata": {
    "collapsed": false
   }
  },
  {
   "cell_type": "code",
   "execution_count": 152,
   "outputs": [
    {
     "name": "stderr",
     "output_type": "stream",
     "text": [
      "/Users/user/PycharmProjects/pythonProject/venv/lib/python3.9/site-packages/numpy/lib/function_base.py:5071: VisibleDeprecationWarning:\n",
      "\n",
      "Creating an ndarray from ragged nested sequences (which is a list-or-tuple of lists-or-tuples-or ndarrays with different lengths or shapes) is deprecated. If you meant to do this, you must specify 'dtype=object' when creating the ndarray.\n",
      "\n"
     ]
    }
   ],
   "source": [
    "wav_all = np.reshape(np.delete(all_wav,1,1),(len(all_wav)))\n",
    "label_all = [i for i in np.delete(all_wav,0,1).tolist()]"
   ],
   "metadata": {
    "collapsed": false
   }
  },
  {
   "cell_type": "markdown",
   "source": [
    "### Data Augmentation\n",
    "\n",
    "For Data Augmentation. I will mix train wav, and same length(1 sec) noise(10%) from '_background_noise_'\n"
   ],
   "metadata": {
    "collapsed": false
   }
  },
  {
   "cell_type": "code",
   "execution_count": 153,
   "outputs": [],
   "source": [
    "#Random pick start point\n",
    "def get_one_noise(noise_num = 0):\n",
    "    selected_noise = background_noise[noise_num]\n",
    "    start_idx = random.randint(0, len(selected_noise)- 1 - 8000)\n",
    "    return selected_noise[start_idx:(start_idx + 8000)]"
   ],
   "metadata": {
    "collapsed": false
   }
  },
  {
   "metadata": {
    "trusted": true,
    "_uuid": "073bc68512dc809aff793dc03dc380d570631457"
   },
   "cell_type": "code",
   "source": [
    "max_ratio = 0.1\n",
    "noised_wav = []\n",
    "augment = 1\n",
    "delete_index = []\n",
    "for i in range(augment):\n",
    "    new_wav = []\n",
    "    noise = get_one_noise(i)\n",
    "    for i, s in enumerate(wav_all):\n",
    "        if len(s) != 8000:\n",
    "            print(delete_index, label_all[delete_index])\n",
    "            delete_index.append(i)\n",
    "            continue\n",
    "        s = s + (max_ratio * noise)\n",
    "        noised_wav.append(s)\n",
    "np.delete(wav_all, delete_index)\n",
    "np.delete(label_all, delete_index)"
   ],
   "execution_count": 154,
   "outputs": [
    {
     "data": {
      "text/plain": "array(['down', 'down', 'down', ..., 'yes', 'yes', 'yes'], dtype='<U5')"
     },
     "execution_count": 154,
     "metadata": {},
     "output_type": "execute_result"
    }
   ]
  },
  {
   "metadata": {
    "trusted": true,
    "_uuid": "6bd94ec47be96cba4be12c60b91ed90044aedea0"
   },
   "cell_type": "code",
   "source": [
    "wav_vals = np.array([x for x in wav_all])\n",
    "label_vals = [x for x in label_all]\n",
    "wav_vals.shape"
   ],
   "execution_count": 155,
   "outputs": [
    {
     "data": {
      "text/plain": "(21312, 8000)"
     },
     "execution_count": 155,
     "metadata": {},
     "output_type": "execute_result"
    }
   ]
  },
  {
   "metadata": {
    "trusted": true,
    "_uuid": "94ef3d33c62e27cb1fb53a29025c010ec56ffbb4"
   },
   "cell_type": "code",
   "source": [
    "labels = copy.deepcopy(label_vals)\n",
    "for _ in range(augment):\n",
    "    label_vals = np.concatenate((label_vals, labels), axis = 0)\n",
    "label_vals = label_vals.reshape(-1,1)"
   ],
   "execution_count": 156,
   "outputs": []
  },
  {
   "metadata": {
    "_uuid": "e20c12d950b7ff2e8904fc57d5a9d429cd4b130d"
   },
   "cell_type": "markdown",
   "source": [
    "Random sampling from unknown wav data\n"
   ]
  },
  {
   "metadata": {
    "trusted": true,
    "_uuid": "5ee0b02d7cfbcc02ea20d65ee268ba44e01bf2b1"
   },
   "cell_type": "code",
   "source": [
    "#knowns audio random sampling\n",
    "unknown = unknown_wav\n",
    "np.random.shuffle(unknown_wav)\n",
    "unknown = np.array(unknown)\n",
    "unknown = unknown[:2000*(augment+1)]\n",
    "unknown_label = np.array(['unknown' for _ in range(2000*(augment+1))])\n",
    "unknown_label = unknown_label.reshape(2000*(augment+1),1)"
   ],
   "execution_count": 157,
   "outputs": []
  },
  {
   "metadata": {
    "_uuid": "72a6f2c8663ee74708da42313ed2e8d24c832b3f"
   },
   "cell_type": "markdown",
   "source": [
    "May Some wav data has different length. So, Delete it"
   ]
  },
  {
   "metadata": {
    "trusted": true,
    "_uuid": "70a499bce28fd081b7fa9742eb03851ebe4eb5f1"
   },
   "cell_type": "code",
   "source": [
    "delete_index = []\n",
    "for i,w in enumerate(unknown):\n",
    "    if len(w) != 8000:\n",
    "        delete_index.append(i)\n",
    "unknown = np.delete(unknown, delete_index, axis=0)"
   ],
   "execution_count": 158,
   "outputs": []
  },
  {
   "metadata": {
    "_uuid": "6a1f8bf0426f373ed063df7f1adbd963943a3fd0"
   },
   "cell_type": "markdown",
   "source": [
    "Random sampling from '_background_noise_' \n",
    "\n",
    "Random pick background noise \n"
   ]
  },
  {
   "metadata": {
    "trusted": true,
    "_uuid": "7ef23bb8580b70f2b52e2d91fb183674112d2eba"
   },
   "cell_type": "code",
   "source": [
    "#silence audio\n",
    "silence_wav = []\n",
    "num_wav = (2000*(augment+1))//len(background_noise)\n",
    "for i, _ in enumerate(background_noise):\n",
    "    for _ in range((2000*(augment+1))//len(background_noise)):\n",
    "        silence_wav.append(get_one_noise(i))\n",
    "silence_wav = np.array(silence_wav)\n",
    "silence_label = np.array(['silence' for _ in range(num_wav*len(background_noise))])\n",
    "silence_label = silence_label.reshape(-1,1)\n",
    "silence_wav.shape"
   ],
   "execution_count": 159,
   "outputs": [
    {
     "data": {
      "text/plain": "(3996, 8000)"
     },
     "execution_count": 159,
     "metadata": {},
     "output_type": "execute_result"
    }
   ]
  },
  {
   "metadata": {
    "trusted": true,
    "_uuid": "c06ab04ada253e19a0207d280ed3c1a444776cd3"
   },
   "cell_type": "code",
   "source": [
    "wav_vals    = np.reshape(wav_vals,    (-1, 8000))\n",
    "noised_wav  = np.reshape(noised_wav,  (-1, 8000))\n",
    "unknown       = np.reshape(unknown,   (-1, 8000))\n",
    "silence_wav = np.reshape(silence_wav, (-1, 8000))"
   ],
   "execution_count": 160,
   "outputs": []
  },
  {
   "metadata": {
    "_uuid": "4e1666c5bf721dbf9e4717be0d469734db9182f2"
   },
   "cell_type": "markdown",
   "source": [
    "Check Dimensions"
   ]
  },
  {
   "metadata": {
    "trusted": true,
    "_uuid": "841b9a9b2a2c38297a7a6d1c93744965755703fa"
   },
   "cell_type": "code",
   "source": [
    "print(wav_vals.shape)\n",
    "print(noised_wav.shape)\n",
    "print(unknown.shape)\n",
    "print(silence_wav.shape)"
   ],
   "execution_count": 161,
   "outputs": [
    {
     "name": "stdout",
     "output_type": "stream",
     "text": [
      "(21312, 8000)\n",
      "(21312, 8000)\n",
      "(4000, 8000)\n",
      "(3996, 8000)\n"
     ]
    }
   ]
  },
  {
   "metadata": {
    "trusted": true,
    "_uuid": "ab1aba8c05398669f6e3152d74e00e8a41ee7503"
   },
   "cell_type": "code",
   "source": [
    "print(label_vals.shape)\n",
    "print(unknown_label.shape)\n",
    "print(silence_label.shape)"
   ],
   "execution_count": 162,
   "outputs": [
    {
     "name": "stdout",
     "output_type": "stream",
     "text": [
      "(42624, 1)\n",
      "(4000, 1)\n",
      "(3996, 1)\n"
     ]
    }
   ]
  },
  {
   "metadata": {
    "_uuid": "c6816376d4450daffeb79114df92d3fb0eafb59a"
   },
   "cell_type": "markdown",
   "source": [
    "Concatenate wavs, labels "
   ]
  },
  {
   "metadata": {
    "trusted": true,
    "_uuid": "7d6afa30a5dda2b9ca4888b36aabe5b89922a121"
   },
   "cell_type": "code",
   "source": [
    "wav_vals = np.concatenate((wav_vals, noised_wav), axis = 0)\n",
    "wav_vals = np.concatenate((wav_vals, unknown), axis = 0)\n",
    "wav_vals = np.concatenate((wav_vals, silence_wav), axis = 0)"
   ],
   "execution_count": 163,
   "outputs": []
  },
  {
   "metadata": {
    "trusted": true,
    "_uuid": "420f9d709f805349b2635a80dabc383595eac011"
   },
   "cell_type": "code",
   "source": [
    "label_vals = np.concatenate((label_vals, unknown_label), axis = 0)\n",
    "label_vals = np.concatenate((label_vals, silence_label), axis = 0)"
   ],
   "execution_count": 164,
   "outputs": []
  },
  {
   "metadata": {
    "trusted": true,
    "_uuid": "0c33c9dc3fe0daa57968e89fa6c22352a8b53f55"
   },
   "cell_type": "code",
   "source": [
    "print(len(wav_vals))\n",
    "print(len(label_vals))"
   ],
   "execution_count": 165,
   "outputs": [
    {
     "name": "stdout",
     "output_type": "stream",
     "text": [
      "50620\n",
      "50620\n"
     ]
    }
   ]
  },
  {
   "metadata": {
    "trusted": true,
    "_uuid": "ba0ab85ffd216b4d91855ea234b3202ba250b8be"
   },
   "cell_type": "code",
   "source": [
    "train_wav, test_wav, train_label, test_label = train_test_split(wav_vals, label_vals, \n",
    "                                                                    test_size=0.2,\n",
    "                                                                    random_state = 1993,\n",
    "                                                                   shuffle=True)"
   ],
   "execution_count": 166,
   "outputs": []
  },
  {
   "metadata": {
    "trusted": true,
    "_uuid": "9e6a9e72fbee7fd3bf612e60d5709b177deacaec"
   },
   "cell_type": "code",
   "source": [
    "# Parameters\n",
    "lr = 0.001\n",
    "generations = 20000\n",
    "num_gens_to_wait = 250\n",
    "batch_size = 512\n",
    "drop_out_rate = 0.5\n",
    "input_shape = (8000,1)"
   ],
   "execution_count": 167,
   "outputs": []
  },
  {
   "metadata": {
    "trusted": true,
    "_uuid": "73ffc6cf54f2100c1aa47203f0c33e350198dc3d"
   },
   "cell_type": "code",
   "source": [
    "#For Conv1D add Channel\n",
    "train_wav = train_wav.reshape(-1,8000,1)\n",
    "test_wav = test_wav.reshape(-1,8000,1)"
   ],
   "execution_count": 168,
   "outputs": []
  },
  {
   "metadata": {
    "trusted": true,
    "_uuid": "75fd1a40241009a857b5db9c878c9c665bdc84f2"
   },
   "cell_type": "code",
   "source": [
    "label_value = target_list\n",
    "label_value.append('unknown')\n",
    "label_value.append('silence')"
   ],
   "execution_count": 169,
   "outputs": []
  },
  {
   "metadata": {
    "trusted": true,
    "_uuid": "cb801f97812407f60af16a787a0ae01db8e88038"
   },
   "cell_type": "code",
   "source": [
    "new_label_value = dict()\n",
    "for i, l in enumerate(label_value):\n",
    "    new_label_value[l] = i\n",
    "label_value = new_label_value"
   ],
   "execution_count": 170,
   "outputs": []
  },
  {
   "metadata": {
    "trusted": true,
    "_uuid": "65647981d409fb31ac391af3d5d091ef354a0f02"
   },
   "cell_type": "code",
   "source": [
    "#Make Label data 'string' -> 'class num'\n",
    "temp = []\n",
    "for v in train_label:\n",
    "    temp.append(label_value[v[0]])\n",
    "train_label = np.array(temp)\n",
    "\n",
    "temp = []\n",
    "for v in test_label:\n",
    "    temp.append(label_value[v[0]])\n",
    "test_label = np.array(temp)\n",
    "\n",
    "#Make Label data 'class num' -> 'One hot vector'\n",
    "train_label = keras.utils.to_categorical(train_label, len(label_value))\n",
    "test_label = keras.utils.to_categorical(test_label, len(label_value))"
   ],
   "execution_count": 171,
   "outputs": []
  },
  {
   "metadata": {
    "trusted": true,
    "_uuid": "96b340a033294465394c168e232df012a011ae1a"
   },
   "cell_type": "code",
   "source": [
    "print('Train_Wav Demension : ' + str(np.shape(train_wav)))"
   ],
   "execution_count": 172,
   "outputs": [
    {
     "name": "stdout",
     "output_type": "stream",
     "text": [
      "Train_Wav Demension : (40496, 8000, 1)\n"
     ]
    }
   ]
  },
  {
   "metadata": {
    "scrolled": true,
    "trusted": true,
    "_uuid": "994265f130050666438cd7a14357ef766b279495"
   },
   "cell_type": "code",
   "source": [
    "print('Train_Label Demension : ' + str(np.shape(train_label)))"
   ],
   "execution_count": 173,
   "outputs": [
    {
     "name": "stdout",
     "output_type": "stream",
     "text": [
      "Train_Label Demension : (40496, 13)\n"
     ]
    }
   ]
  },
  {
   "metadata": {
    "trusted": true,
    "_uuid": "edf649f1ec18a201a7a2b2bf9c5115e443fe6b03"
   },
   "cell_type": "code",
   "source": [
    "print('Test_Wav Demension : ' + str(np.shape(test_wav)))"
   ],
   "execution_count": 174,
   "outputs": [
    {
     "name": "stdout",
     "output_type": "stream",
     "text": [
      "Test_Wav Demension : (10124, 8000, 1)\n"
     ]
    }
   ]
  },
  {
   "metadata": {
    "trusted": true,
    "_uuid": "c3bf3f485f3b3f4e44f25ce4ec35861a7b22f866"
   },
   "cell_type": "code",
   "source": [
    "print('Test_Label Demension : ' + str(np.shape(test_label)))"
   ],
   "execution_count": 175,
   "outputs": [
    {
     "name": "stdout",
     "output_type": "stream",
     "text": [
      "Test_Label Demension : (10124, 13)\n"
     ]
    }
   ]
  },
  {
   "metadata": {
    "trusted": true,
    "_uuid": "557d3f766acfe47197813f0301d0b562cf3388be"
   },
   "cell_type": "code",
   "source": [
    "print('Number Of Labels : ' + str(len(label_value)))"
   ],
   "execution_count": 176,
   "outputs": [
    {
     "name": "stdout",
     "output_type": "stream",
     "text": [
      "Number Of Labels : 13\n"
     ]
    }
   ]
  },
  {
   "metadata": {
    "trusted": true,
    "_uuid": "0c1c50793d9d2c12af1cbf1029daca221afdaff9"
   },
   "cell_type": "code",
   "source": [
    "model.summary()"
   ],
   "execution_count": 177,
   "outputs": [
    {
     "name": "stdout",
     "output_type": "stream",
     "text": [
      "Model: \"model\"\n",
      "_________________________________________________________________\n",
      " Layer (type)                Output Shape              Param #   \n",
      "=================================================================\n",
      " input_1 (InputLayer)        [(None, 8000, 1)]         0         \n",
      "                                                                 \n",
      " conv1d (Conv1D)             (None, 7990, 8)           96        \n",
      "                                                                 \n",
      " max_pooling1d (MaxPooling1D  (None, 3995, 8)          0         \n",
      " )                                                               \n",
      "                                                                 \n",
      " dropout (Dropout)           (None, 3995, 8)           0         \n",
      "                                                                 \n",
      " conv1d_1 (Conv1D)           (None, 3989, 16)          912       \n",
      "                                                                 \n",
      " max_pooling1d_1 (MaxPooling  (None, 1994, 16)         0         \n",
      " 1D)                                                             \n",
      "                                                                 \n",
      " dropout_1 (Dropout)         (None, 1994, 16)          0         \n",
      "                                                                 \n",
      " conv1d_2 (Conv1D)           (None, 1990, 32)          2592      \n",
      "                                                                 \n",
      " max_pooling1d_2 (MaxPooling  (None, 995, 32)          0         \n",
      " 1D)                                                             \n",
      "                                                                 \n",
      " dropout_2 (Dropout)         (None, 995, 32)           0         \n",
      "                                                                 \n",
      " conv1d_3 (Conv1D)           (None, 991, 64)           10304     \n",
      "                                                                 \n",
      " max_pooling1d_3 (MaxPooling  (None, 495, 64)          0         \n",
      " 1D)                                                             \n",
      "                                                                 \n",
      " dropout_3 (Dropout)         (None, 495, 64)           0         \n",
      "                                                                 \n",
      " conv1d_4 (Conv1D)           (None, 493, 128)          24704     \n",
      "                                                                 \n",
      " max_pooling1d_4 (MaxPooling  (None, 246, 128)         0         \n",
      " 1D)                                                             \n",
      "                                                                 \n",
      " flatten (Flatten)           (None, 31488)             0         \n",
      "                                                                 \n",
      " dense (Dense)               (None, 256)               8061184   \n",
      "                                                                 \n",
      " dropout_4 (Dropout)         (None, 256)               0         \n",
      "                                                                 \n",
      " dense_1 (Dense)             (None, 128)               32896     \n",
      "                                                                 \n",
      " dropout_5 (Dropout)         (None, 128)               0         \n",
      "                                                                 \n",
      " dense_2 (Dense)             (None, 12)                1548      \n",
      "                                                                 \n",
      "=================================================================\n",
      "Total params: 8,134,236\n",
      "Trainable params: 8,134,236\n",
      "Non-trainable params: 0\n",
      "_________________________________________________________________\n"
     ]
    }
   ]
  },
  {
   "cell_type": "code",
   "execution_count": 178,
   "outputs": [
    {
     "name": "stderr",
     "output_type": "stream",
     "text": [
      "/Users/user/PycharmProjects/pythonProject/venv/lib/python3.9/site-packages/keras/optimizers/optimizer_v2/adam.py:114: UserWarning:\n",
      "\n",
      "The `lr` argument is deprecated, use `learning_rate` instead.\n",
      "\n"
     ]
    }
   ],
   "source": [
    "#Conv1D Model\n",
    "input_tensor = Input(shape=(input_shape))\n",
    "\n",
    "x = layers.Conv1D(8, 11, padding='valid', activation='relu', strides=1)(input_tensor)\n",
    "x = layers.MaxPooling1D(2)(x)\n",
    "x = layers.Dropout(drop_out_rate)(x)\n",
    "x = layers.Conv1D(16, 7, padding='valid', activation='relu', strides=1)(x)\n",
    "x = layers.MaxPooling1D(2)(x)\n",
    "x = layers.Dropout(drop_out_rate)(x)\n",
    "x = layers.Conv1D(32, 5, padding='valid', activation='relu', strides=1)(x)\n",
    "x = layers.MaxPooling1D(2)(x)\n",
    "x = layers.Dropout(drop_out_rate)(x)\n",
    "x = layers.Conv1D(64, 5, padding='valid', activation='relu', strides=1)(x)\n",
    "x = layers.MaxPooling1D(2)(x)\n",
    "x = layers.Dropout(drop_out_rate)(x)\n",
    "x = layers.Conv1D(128, 3, padding='valid', activation='relu', strides=1)(x)\n",
    "x = layers.MaxPooling1D(2)(x)\n",
    "x = layers.Flatten()(x)\n",
    "x = layers.Dense(256, activation='relu')(x)\n",
    "x = layers.Dropout(drop_out_rate)(x)\n",
    "x = layers.Dense(128, activation='relu')(x)\n",
    "x = layers.Dropout(drop_out_rate)(x)\n",
    "output_tensor = layers.Dense(len(label_value), activation='softmax')(x)\n",
    "\n",
    "model = tf.keras.Model(input_tensor, output_tensor)\n",
    "\n",
    "model.compile(loss=keras.losses.categorical_crossentropy,\n",
    "             optimizer=keras.optimizers.Adam(lr = lr),\n",
    "             metrics=['accuracy'])\n"
   ],
   "metadata": {
    "collapsed": false
   }
  },
  {
   "metadata": {
    "_uuid": "45ce60c3949727441c5c75dabb3575cb95aa59be"
   },
   "cell_type": "markdown",
   "source": [
    "### Train!"
   ]
  },
  {
   "metadata": {
    "scrolled": false,
    "trusted": true,
    "_uuid": "9b61710f92afdf22a09a07b9dd9d3ddc3e75c05b"
   },
   "cell_type": "code",
   "source": [
    "history = model.fit(train_wav, train_label, validation_data=[test_wav, test_label],\n",
    "          batch_size=batch_size, \n",
    "          epochs=100,\n",
    "          verbose=1)"
   ],
   "execution_count": 179,
   "outputs": [
    {
     "name": "stdout",
     "output_type": "stream",
     "text": [
      "Epoch 1/100\n"
     ]
    },
    {
     "name": "stderr",
     "output_type": "stream",
     "text": [
      "2022-11-12 10:18:37.670058: I tensorflow/core/grappler/optimizers/custom_graph_optimizer_registry.cc:114] Plugin optimizer for device_type GPU is enabled.\n"
     ]
    },
    {
     "name": "stdout",
     "output_type": "stream",
     "text": [
      "80/80 [==============================] - ETA: 0s - loss: 2.4339 - accuracy: 0.1376"
     ]
    },
    {
     "name": "stderr",
     "output_type": "stream",
     "text": [
      "2022-11-12 10:19:06.222537: I tensorflow/core/grappler/optimizers/custom_graph_optimizer_registry.cc:114] Plugin optimizer for device_type GPU is enabled.\n"
     ]
    },
    {
     "name": "stdout",
     "output_type": "stream",
     "text": [
      "80/80 [==============================] - 31s 318ms/step - loss: 2.4339 - accuracy: 0.1376 - val_loss: 2.3434 - val_accuracy: 0.1948\n",
      "Epoch 2/100\n",
      "80/80 [==============================] - 18s 224ms/step - loss: 2.2260 - accuracy: 0.2050 - val_loss: 2.2899 - val_accuracy: 0.1951\n",
      "Epoch 3/100\n",
      "80/80 [==============================] - 18s 221ms/step - loss: 2.0656 - accuracy: 0.2503 - val_loss: 2.0682 - val_accuracy: 0.2757\n",
      "Epoch 4/100\n",
      "80/80 [==============================] - 18s 219ms/step - loss: 1.8936 - accuracy: 0.3082 - val_loss: 1.8991 - val_accuracy: 0.3305\n",
      "Epoch 5/100\n",
      "80/80 [==============================] - 18s 221ms/step - loss: 1.7319 - accuracy: 0.3685 - val_loss: 1.8717 - val_accuracy: 0.3342\n",
      "Epoch 6/100\n",
      "80/80 [==============================] - 17s 217ms/step - loss: 1.6081 - accuracy: 0.4188 - val_loss: 1.7826 - val_accuracy: 0.3633\n",
      "Epoch 7/100\n",
      "80/80 [==============================] - 18s 223ms/step - loss: 1.5066 - accuracy: 0.4569 - val_loss: 1.7392 - val_accuracy: 0.3941\n",
      "Epoch 8/100\n",
      "80/80 [==============================] - 18s 219ms/step - loss: 1.3997 - accuracy: 0.5017 - val_loss: 1.7318 - val_accuracy: 0.3900\n",
      "Epoch 9/100\n",
      "80/80 [==============================] - 17s 218ms/step - loss: 1.3416 - accuracy: 0.5256 - val_loss: 1.6041 - val_accuracy: 0.4470\n",
      "Epoch 10/100\n",
      "80/80 [==============================] - 18s 221ms/step - loss: 1.2607 - accuracy: 0.5510 - val_loss: 1.6808 - val_accuracy: 0.4218\n",
      "Epoch 11/100\n",
      "80/80 [==============================] - 17s 217ms/step - loss: 1.2314 - accuracy: 0.5677 - val_loss: 1.4980 - val_accuracy: 0.4826\n",
      "Epoch 12/100\n",
      "80/80 [==============================] - 18s 220ms/step - loss: 1.1735 - accuracy: 0.5868 - val_loss: 1.5380 - val_accuracy: 0.4917\n",
      "Epoch 13/100\n",
      "80/80 [==============================] - 18s 224ms/step - loss: 1.1288 - accuracy: 0.6018 - val_loss: 1.4197 - val_accuracy: 0.5363\n",
      "Epoch 14/100\n",
      "80/80 [==============================] - 17s 218ms/step - loss: 1.1004 - accuracy: 0.6159 - val_loss: 1.6098 - val_accuracy: 0.5032\n",
      "Epoch 15/100\n",
      "80/80 [==============================] - 17s 218ms/step - loss: 1.0636 - accuracy: 0.6289 - val_loss: 1.3532 - val_accuracy: 0.5667\n",
      "Epoch 16/100\n",
      "80/80 [==============================] - 18s 220ms/step - loss: 1.0417 - accuracy: 0.6340 - val_loss: 1.8760 - val_accuracy: 0.4701\n",
      "Epoch 17/100\n",
      "80/80 [==============================] - 17s 219ms/step - loss: 1.0307 - accuracy: 0.6400 - val_loss: 1.5936 - val_accuracy: 0.5038\n",
      "Epoch 18/100\n",
      "80/80 [==============================] - 18s 223ms/step - loss: 0.9966 - accuracy: 0.6516 - val_loss: 1.2734 - val_accuracy: 0.5954\n",
      "Epoch 19/100\n",
      "80/80 [==============================] - 17s 219ms/step - loss: 0.9684 - accuracy: 0.6610 - val_loss: 1.2475 - val_accuracy: 0.5910\n",
      "Epoch 20/100\n",
      "80/80 [==============================] - 18s 220ms/step - loss: 0.9480 - accuracy: 0.6667 - val_loss: 1.2190 - val_accuracy: 0.6052\n",
      "Epoch 21/100\n",
      "80/80 [==============================] - 18s 222ms/step - loss: 0.9246 - accuracy: 0.6750 - val_loss: 1.4857 - val_accuracy: 0.5444\n",
      "Epoch 22/100\n",
      "80/80 [==============================] - 17s 218ms/step - loss: 0.9220 - accuracy: 0.6785 - val_loss: 1.2000 - val_accuracy: 0.6052\n",
      "Epoch 23/100\n",
      "80/80 [==============================] - 17s 218ms/step - loss: 0.8930 - accuracy: 0.6863 - val_loss: 1.2190 - val_accuracy: 0.6021\n",
      "Epoch 24/100\n",
      "80/80 [==============================] - 18s 224ms/step - loss: 0.8799 - accuracy: 0.6928 - val_loss: 1.0466 - val_accuracy: 0.6554\n",
      "Epoch 25/100\n",
      "80/80 [==============================] - 17s 218ms/step - loss: 0.8713 - accuracy: 0.6966 - val_loss: 1.2372 - val_accuracy: 0.6025\n",
      "Epoch 26/100\n",
      "80/80 [==============================] - 18s 223ms/step - loss: 0.8629 - accuracy: 0.6986 - val_loss: 1.1394 - val_accuracy: 0.6336\n",
      "Epoch 27/100\n",
      "80/80 [==============================] - 17s 219ms/step - loss: 0.8428 - accuracy: 0.7046 - val_loss: 1.2439 - val_accuracy: 0.6033\n",
      "Epoch 28/100\n",
      "80/80 [==============================] - 18s 222ms/step - loss: 0.8172 - accuracy: 0.7146 - val_loss: 1.1230 - val_accuracy: 0.6297\n",
      "Epoch 29/100\n",
      "80/80 [==============================] - 18s 219ms/step - loss: 0.8231 - accuracy: 0.7141 - val_loss: 1.1394 - val_accuracy: 0.6239\n",
      "Epoch 30/100\n",
      "80/80 [==============================] - 17s 218ms/step - loss: 0.7945 - accuracy: 0.7232 - val_loss: 1.1571 - val_accuracy: 0.6256\n",
      "Epoch 31/100\n",
      "80/80 [==============================] - 18s 220ms/step - loss: 0.7840 - accuracy: 0.7267 - val_loss: 1.0120 - val_accuracy: 0.6762\n",
      "Epoch 32/100\n",
      "80/80 [==============================] - 18s 220ms/step - loss: 0.7828 - accuracy: 0.7280 - val_loss: 1.1209 - val_accuracy: 0.6329\n",
      "Epoch 33/100\n",
      "80/80 [==============================] - 18s 219ms/step - loss: 0.7641 - accuracy: 0.7322 - val_loss: 1.1256 - val_accuracy: 0.6398\n",
      "Epoch 34/100\n",
      "80/80 [==============================] - 18s 220ms/step - loss: 0.7517 - accuracy: 0.7366 - val_loss: 1.0025 - val_accuracy: 0.6696\n",
      "Epoch 35/100\n",
      "80/80 [==============================] - 18s 223ms/step - loss: 0.7544 - accuracy: 0.7373 - val_loss: 1.0671 - val_accuracy: 0.6521\n",
      "Epoch 36/100\n",
      "80/80 [==============================] - 18s 222ms/step - loss: 0.7383 - accuracy: 0.7431 - val_loss: 1.0725 - val_accuracy: 0.6555\n",
      "Epoch 37/100\n",
      "80/80 [==============================] - 17s 217ms/step - loss: 0.7218 - accuracy: 0.7462 - val_loss: 1.0500 - val_accuracy: 0.6585\n",
      "Epoch 38/100\n",
      "80/80 [==============================] - 17s 217ms/step - loss: 0.7115 - accuracy: 0.7505 - val_loss: 1.0313 - val_accuracy: 0.6671\n",
      "Epoch 39/100\n",
      "80/80 [==============================] - 18s 222ms/step - loss: 0.7032 - accuracy: 0.7550 - val_loss: 0.9807 - val_accuracy: 0.6742\n",
      "Epoch 40/100\n",
      "80/80 [==============================] - 18s 222ms/step - loss: 0.6836 - accuracy: 0.7619 - val_loss: 1.1033 - val_accuracy: 0.6449\n",
      "Epoch 41/100\n",
      "80/80 [==============================] - 18s 220ms/step - loss: 0.6956 - accuracy: 0.7549 - val_loss: 0.9101 - val_accuracy: 0.6916\n",
      "Epoch 42/100\n",
      "80/80 [==============================] - 17s 218ms/step - loss: 0.6831 - accuracy: 0.7624 - val_loss: 1.0826 - val_accuracy: 0.6552\n",
      "Epoch 43/100\n",
      "80/80 [==============================] - 17s 208ms/step - loss: 0.6804 - accuracy: 0.7611 - val_loss: 0.9781 - val_accuracy: 0.6723\n",
      "Epoch 44/100\n",
      "80/80 [==============================] - 17s 211ms/step - loss: 0.6607 - accuracy: 0.7690 - val_loss: 1.1251 - val_accuracy: 0.6525\n",
      "Epoch 45/100\n",
      "80/80 [==============================] - 16s 205ms/step - loss: 0.6650 - accuracy: 0.7669 - val_loss: 1.0326 - val_accuracy: 0.6626\n",
      "Epoch 46/100\n",
      "80/80 [==============================] - 17s 207ms/step - loss: 0.6627 - accuracy: 0.7665 - val_loss: 0.9934 - val_accuracy: 0.6818\n",
      "Epoch 47/100\n",
      "80/80 [==============================] - 17s 210ms/step - loss: 0.6547 - accuracy: 0.7701 - val_loss: 1.6201 - val_accuracy: 0.5774\n",
      "Epoch 48/100\n",
      "80/80 [==============================] - 17s 209ms/step - loss: 0.7130 - accuracy: 0.7560 - val_loss: 1.0489 - val_accuracy: 0.6519\n",
      "Epoch 49/100\n",
      "80/80 [==============================] - 17s 211ms/step - loss: 0.6496 - accuracy: 0.7729 - val_loss: 0.9204 - val_accuracy: 0.6952\n",
      "Epoch 50/100\n",
      "80/80 [==============================] - 17s 210ms/step - loss: 0.6213 - accuracy: 0.7821 - val_loss: 0.9561 - val_accuracy: 0.6932\n",
      "Epoch 51/100\n",
      "80/80 [==============================] - 17s 207ms/step - loss: 0.6100 - accuracy: 0.7858 - val_loss: 1.0097 - val_accuracy: 0.6772\n",
      "Epoch 52/100\n",
      "80/80 [==============================] - 17s 209ms/step - loss: 0.6096 - accuracy: 0.7873 - val_loss: 1.0121 - val_accuracy: 0.6811\n",
      "Epoch 53/100\n",
      "80/80 [==============================] - 17s 207ms/step - loss: 0.5953 - accuracy: 0.7911 - val_loss: 0.9888 - val_accuracy: 0.6756\n",
      "Epoch 54/100\n",
      "80/80 [==============================] - 17s 213ms/step - loss: 0.5963 - accuracy: 0.7923 - val_loss: 1.1173 - val_accuracy: 0.6641\n",
      "Epoch 55/100\n",
      "80/80 [==============================] - 17s 208ms/step - loss: 0.6030 - accuracy: 0.7904 - val_loss: 1.4052 - val_accuracy: 0.6234\n",
      "Epoch 56/100\n",
      "80/80 [==============================] - 17s 211ms/step - loss: 0.5986 - accuracy: 0.7912 - val_loss: 1.0033 - val_accuracy: 0.6694\n",
      "Epoch 57/100\n",
      "80/80 [==============================] - 16s 206ms/step - loss: 0.5832 - accuracy: 0.7953 - val_loss: 1.0177 - val_accuracy: 0.6858\n",
      "Epoch 58/100\n",
      "80/80 [==============================] - 17s 208ms/step - loss: 0.5730 - accuracy: 0.7984 - val_loss: 1.1262 - val_accuracy: 0.6650\n",
      "Epoch 59/100\n",
      "80/80 [==============================] - 17s 212ms/step - loss: 0.5830 - accuracy: 0.7959 - val_loss: 0.9529 - val_accuracy: 0.6947\n",
      "Epoch 60/100\n",
      "80/80 [==============================] - 17s 209ms/step - loss: 0.5762 - accuracy: 0.8009 - val_loss: 0.9355 - val_accuracy: 0.6976\n",
      "Epoch 61/100\n",
      "80/80 [==============================] - 17s 210ms/step - loss: 0.5675 - accuracy: 0.8038 - val_loss: 0.9312 - val_accuracy: 0.7073\n",
      "Epoch 62/100\n",
      "80/80 [==============================] - 16s 206ms/step - loss: 0.5514 - accuracy: 0.8085 - val_loss: 0.9722 - val_accuracy: 0.6913\n",
      "Epoch 63/100\n",
      "80/80 [==============================] - 17s 207ms/step - loss: 0.5585 - accuracy: 0.8054 - val_loss: 0.9585 - val_accuracy: 0.7042\n",
      "Epoch 64/100\n",
      "80/80 [==============================] - 17s 211ms/step - loss: 0.5359 - accuracy: 0.8143 - val_loss: 0.9949 - val_accuracy: 0.6911\n",
      "Epoch 65/100\n",
      "80/80 [==============================] - 17s 212ms/step - loss: 0.5472 - accuracy: 0.8095 - val_loss: 0.9126 - val_accuracy: 0.7055\n",
      "Epoch 66/100\n",
      "80/80 [==============================] - 17s 210ms/step - loss: 0.5363 - accuracy: 0.8136 - val_loss: 1.0123 - val_accuracy: 0.6823\n",
      "Epoch 67/100\n",
      "80/80 [==============================] - 17s 212ms/step - loss: 0.5326 - accuracy: 0.8130 - val_loss: 0.9604 - val_accuracy: 0.7034\n",
      "Epoch 68/100\n",
      "80/80 [==============================] - 17s 210ms/step - loss: 0.5339 - accuracy: 0.8133 - val_loss: 1.0190 - val_accuracy: 0.6931\n",
      "Epoch 69/100\n",
      "80/80 [==============================] - 17s 212ms/step - loss: 0.5375 - accuracy: 0.8156 - val_loss: 0.8668 - val_accuracy: 0.7150\n",
      "Epoch 70/100\n",
      "80/80 [==============================] - 17s 210ms/step - loss: 0.5185 - accuracy: 0.8174 - val_loss: 0.9058 - val_accuracy: 0.7008\n",
      "Epoch 71/100\n",
      "80/80 [==============================] - 17s 211ms/step - loss: 0.5196 - accuracy: 0.8186 - val_loss: 1.0006 - val_accuracy: 0.6944\n",
      "Epoch 72/100\n",
      "80/80 [==============================] - 17s 209ms/step - loss: 0.5103 - accuracy: 0.8214 - val_loss: 0.9404 - val_accuracy: 0.7040\n",
      "Epoch 73/100\n",
      "80/80 [==============================] - 17s 211ms/step - loss: 0.5052 - accuracy: 0.8244 - val_loss: 1.0466 - val_accuracy: 0.6924\n",
      "Epoch 74/100\n",
      "80/80 [==============================] - 17s 209ms/step - loss: 0.5155 - accuracy: 0.8215 - val_loss: 0.9651 - val_accuracy: 0.7102\n",
      "Epoch 75/100\n",
      "80/80 [==============================] - 17s 213ms/step - loss: 0.5020 - accuracy: 0.8257 - val_loss: 1.0221 - val_accuracy: 0.6932\n",
      "Epoch 76/100\n",
      "80/80 [==============================] - 17s 206ms/step - loss: 0.4929 - accuracy: 0.8287 - val_loss: 1.0142 - val_accuracy: 0.6973\n",
      "Epoch 77/100\n",
      "80/80 [==============================] - 17s 210ms/step - loss: 0.4938 - accuracy: 0.8283 - val_loss: 1.0054 - val_accuracy: 0.6910\n",
      "Epoch 78/100\n",
      "80/80 [==============================] - 17s 209ms/step - loss: 0.5002 - accuracy: 0.8263 - val_loss: 1.0176 - val_accuracy: 0.6981\n",
      "Epoch 79/100\n",
      "80/80 [==============================] - 17s 207ms/step - loss: 0.4804 - accuracy: 0.8327 - val_loss: 0.8940 - val_accuracy: 0.7138\n",
      "Epoch 80/100\n",
      "80/80 [==============================] - 17s 208ms/step - loss: 0.4875 - accuracy: 0.8310 - val_loss: 1.0751 - val_accuracy: 0.6938\n",
      "Epoch 81/100\n",
      "80/80 [==============================] - 17s 210ms/step - loss: 0.4793 - accuracy: 0.8337 - val_loss: 0.9660 - val_accuracy: 0.7133\n",
      "Epoch 82/100\n",
      "80/80 [==============================] - 17s 212ms/step - loss: 0.4793 - accuracy: 0.8331 - val_loss: 1.1253 - val_accuracy: 0.6609\n",
      "Epoch 83/100\n",
      "80/80 [==============================] - 17s 208ms/step - loss: 0.4815 - accuracy: 0.8324 - val_loss: 0.9863 - val_accuracy: 0.7082\n",
      "Epoch 84/100\n",
      "80/80 [==============================] - 17s 211ms/step - loss: 0.4696 - accuracy: 0.8355 - val_loss: 1.0711 - val_accuracy: 0.6815\n",
      "Epoch 85/100\n",
      "80/80 [==============================] - 17s 210ms/step - loss: 0.4716 - accuracy: 0.8346 - val_loss: 0.9739 - val_accuracy: 0.7051\n",
      "Epoch 86/100\n",
      "80/80 [==============================] - 17s 209ms/step - loss: 0.4595 - accuracy: 0.8396 - val_loss: 0.9877 - val_accuracy: 0.7105\n",
      "Epoch 87/100\n",
      "80/80 [==============================] - 17s 208ms/step - loss: 0.4505 - accuracy: 0.8429 - val_loss: 1.0019 - val_accuracy: 0.7131\n",
      "Epoch 88/100\n",
      "80/80 [==============================] - 16s 205ms/step - loss: 0.4552 - accuracy: 0.8435 - val_loss: 0.9502 - val_accuracy: 0.7010\n",
      "Epoch 89/100\n",
      "80/80 [==============================] - 16s 205ms/step - loss: 0.4640 - accuracy: 0.8404 - val_loss: 0.9352 - val_accuracy: 0.7161\n",
      "Epoch 90/100\n",
      "80/80 [==============================] - 17s 208ms/step - loss: 0.4506 - accuracy: 0.8439 - val_loss: 1.0036 - val_accuracy: 0.7058\n",
      "Epoch 91/100\n",
      "80/80 [==============================] - 17s 208ms/step - loss: 0.4549 - accuracy: 0.8415 - val_loss: 0.8588 - val_accuracy: 0.7362\n",
      "Epoch 92/100\n",
      "80/80 [==============================] - 17s 211ms/step - loss: 0.4489 - accuracy: 0.8445 - val_loss: 0.9134 - val_accuracy: 0.7216\n",
      "Epoch 93/100\n",
      "80/80 [==============================] - 17s 207ms/step - loss: 0.4356 - accuracy: 0.8489 - val_loss: 0.9605 - val_accuracy: 0.7185\n",
      "Epoch 94/100\n",
      "80/80 [==============================] - 17s 209ms/step - loss: 0.4688 - accuracy: 0.8385 - val_loss: 0.9759 - val_accuracy: 0.7075\n",
      "Epoch 95/100\n",
      "80/80 [==============================] - 17s 213ms/step - loss: 0.4393 - accuracy: 0.8469 - val_loss: 1.0514 - val_accuracy: 0.6970\n",
      "Epoch 96/100\n",
      "80/80 [==============================] - 17s 208ms/step - loss: 0.4381 - accuracy: 0.8475 - val_loss: 0.9481 - val_accuracy: 0.7117\n",
      "Epoch 97/100\n",
      "80/80 [==============================] - 17s 209ms/step - loss: 0.4369 - accuracy: 0.8485 - val_loss: 1.0234 - val_accuracy: 0.7135\n",
      "Epoch 98/100\n",
      "80/80 [==============================] - 17s 208ms/step - loss: 0.4284 - accuracy: 0.8513 - val_loss: 1.1169 - val_accuracy: 0.6846\n",
      "Epoch 99/100\n",
      "80/80 [==============================] - 17s 211ms/step - loss: 0.4590 - accuracy: 0.8419 - val_loss: 0.9941 - val_accuracy: 0.7021\n",
      "Epoch 100/100\n",
      "80/80 [==============================] - 17s 211ms/step - loss: 0.4371 - accuracy: 0.8486 - val_loss: 0.9133 - val_accuracy: 0.7211\n"
     ]
    }
   ]
  },
  {
   "metadata": {
    "trusted": true,
    "_uuid": "5cbb0f06ea603cb0e5ef7b9893080ecfdd082864"
   },
   "cell_type": "code",
   "source": [
    "plt.plot(history.history['acc'])\n",
    "plt.plot(history.history['val_acc'])\n",
    "plt.title('model accuracy')\n",
    "plt.ylabel('accuracy')\n",
    "plt.xlabel('epoch')\n",
    "plt.legend(['train', 'test'], loc='upper left')\n",
    "plt.show()\n",
    "# summarize history for loss\n",
    "plt.plot(history.history['loss'])\n",
    "plt.plot(history.history['val_loss'])\n",
    "plt.title('model loss')\n",
    "plt.ylabel('loss')\n",
    "plt.xlabel('epoch')\n",
    "plt.legend(['train', 'test'], loc='upper left')\n",
    "plt.show()"
   ],
   "execution_count": 180,
   "outputs": [
    {
     "ename": "KeyError",
     "evalue": "'acc'",
     "output_type": "error",
     "traceback": [
      "\u001B[0;31m---------------------------------------------------------------------------\u001B[0m",
      "\u001B[0;31mKeyError\u001B[0m                                  Traceback (most recent call last)",
      "Cell \u001B[0;32mIn [180], line 1\u001B[0m\n\u001B[0;32m----> 1\u001B[0m plt\u001B[38;5;241m.\u001B[39mplot(\u001B[43mhistory\u001B[49m\u001B[38;5;241;43m.\u001B[39;49m\u001B[43mhistory\u001B[49m\u001B[43m[\u001B[49m\u001B[38;5;124;43m'\u001B[39;49m\u001B[38;5;124;43macc\u001B[39;49m\u001B[38;5;124;43m'\u001B[39;49m\u001B[43m]\u001B[49m)\n\u001B[1;32m      2\u001B[0m plt\u001B[38;5;241m.\u001B[39mplot(history\u001B[38;5;241m.\u001B[39mhistory[\u001B[38;5;124m'\u001B[39m\u001B[38;5;124mval_acc\u001B[39m\u001B[38;5;124m'\u001B[39m])\n\u001B[1;32m      3\u001B[0m plt\u001B[38;5;241m.\u001B[39mtitle(\u001B[38;5;124m'\u001B[39m\u001B[38;5;124mmodel accuracy\u001B[39m\u001B[38;5;124m'\u001B[39m)\n",
      "\u001B[0;31mKeyError\u001B[0m: 'acc'"
     ]
    }
   ]
  },
  {
   "cell_type": "code",
   "execution_count": 181,
   "outputs": [
    {
     "name": "stderr",
     "output_type": "stream",
     "text": [
      "WARNING:absl:Found untraced functions such as _jit_compiled_convolution_op, _jit_compiled_convolution_op, _jit_compiled_convolution_op, _jit_compiled_convolution_op, _jit_compiled_convolution_op while saving (showing 5 of 5). These functions will not be directly callable after loading.\n"
     ]
    },
    {
     "name": "stdout",
     "output_type": "stream",
     "text": [
      "INFO:tensorflow:Assets written to: ../models/assets\n"
     ]
    },
    {
     "name": "stderr",
     "output_type": "stream",
     "text": [
      "INFO:tensorflow:Assets written to: ../models/assets\n"
     ]
    }
   ],
   "source": [
    "model.save(\"../models\")"
   ],
   "metadata": {
    "collapsed": false
   }
  },
  {
   "cell_type": "code",
   "execution_count": 182,
   "outputs": [],
   "source": [
    "model = keras.models.load_model('../models')"
   ],
   "metadata": {
    "collapsed": false
   }
  },
  {
   "cell_type": "code",
   "execution_count": 183,
   "outputs": [
    {
     "name": "stderr",
     "output_type": "stream",
     "text": [
      "2022-11-12 10:55:28.608017: I tensorflow/core/grappler/optimizers/custom_graph_optimizer_registry.cc:114] Plugin optimizer for device_type GPU is enabled.\n"
     ]
    },
    {
     "name": "stdout",
     "output_type": "stream",
     "text": [
      "80/80 [==============================] - 2s 21ms/step - loss: 0.9133 - accuracy: 0.7211\n"
     ]
    }
   ],
   "source": [
    "results = model.evaluate(test_wav, test_label, batch_size=128)\n"
   ],
   "metadata": {
    "collapsed": false
   }
  },
  {
   "cell_type": "code",
   "execution_count": 184,
   "outputs": [],
   "source": [
    "def max_index(data):\n",
    "    data = list(data)\n",
    "    max_value = max(data)\n",
    "    return data.index(max_value)\n"
   ],
   "metadata": {
    "collapsed": false
   }
  },
  {
   "cell_type": "code",
   "execution_count": 197,
   "outputs": [
    {
     "name": "stdout",
     "output_type": "stream",
     "text": [
      "1/1 [==============================] - 0s 19ms/step\n",
      "1\n",
      "1\n",
      "||PaMacCore (AUHAL)|| Warning on line 521: err=''!obj'', msg=Unknown Error\n",
      "||PaMacCore (AUHAL)|| Warning on line 441: err=''!obj'', msg=Unknown Error\n",
      "||PaMacCore (AUHAL)|| Error on line 1332: err='-10851', msg=Audio Unit: Invalid Property Value\n"
     ]
    },
    {
     "ename": "PortAudioError",
     "evalue": "Error opening OutputStream: Internal PortAudio error [PaErrorCode -9986]",
     "output_type": "error",
     "traceback": [
      "\u001B[0;31m---------------------------------------------------------------------------\u001B[0m",
      "\u001B[0;31mPortAudioError\u001B[0m                            Traceback (most recent call last)",
      "Cell \u001B[0;32mIn [197], line 5\u001B[0m\n\u001B[1;32m      3\u001B[0m \u001B[38;5;28mprint\u001B[39m(max_index(model\u001B[38;5;241m.\u001B[39mpredict(np\u001B[38;5;241m.\u001B[39marray((train_wav[index]))\u001B[38;5;241m.\u001B[39mreshape((\u001B[38;5;241m1\u001B[39m, \u001B[38;5;241m8000\u001B[39m, \u001B[38;5;241m1\u001B[39m)))[\u001B[38;5;241m0\u001B[39m]))\n\u001B[1;32m      4\u001B[0m \u001B[38;5;28mprint\u001B[39m(max_index(train_label[index]))\n\u001B[0;32m----> 5\u001B[0m \u001B[43msd\u001B[49m\u001B[38;5;241;43m.\u001B[39;49m\u001B[43mplay\u001B[49m\u001B[43m(\u001B[49m\u001B[43mtrain_wav\u001B[49m\u001B[43m[\u001B[49m\u001B[43mindex\u001B[49m\u001B[43m]\u001B[49m\u001B[38;5;241;43m.\u001B[39;49m\u001B[43mflatten\u001B[49m\u001B[43m(\u001B[49m\u001B[43m)\u001B[49m\u001B[43m,\u001B[49m\u001B[43m \u001B[49m\u001B[38;5;241;43m8000\u001B[39;49m\u001B[43m)\u001B[49m\n\u001B[1;32m      6\u001B[0m \u001B[38;5;28mprint\u001B[39m(\u001B[38;5;124m\"\u001B[39m\u001B[38;5;124m____\u001B[39m\u001B[38;5;124m\"\u001B[39m)\n\u001B[1;32m      7\u001B[0m \u001B[38;5;28;01mbreak\u001B[39;00m\n",
      "File \u001B[0;32m~/PycharmProjects/pythonProject/venv/lib/python3.9/site-packages/sounddevice.py:175\u001B[0m, in \u001B[0;36mplay\u001B[0;34m(data, samplerate, mapping, blocking, loop, **kwargs)\u001B[0m\n\u001B[1;32m    172\u001B[0m     ctx\u001B[38;5;241m.\u001B[39mwrite_outdata(outdata)\n\u001B[1;32m    173\u001B[0m     ctx\u001B[38;5;241m.\u001B[39mcallback_exit()\n\u001B[0;32m--> 175\u001B[0m \u001B[43mctx\u001B[49m\u001B[38;5;241;43m.\u001B[39;49m\u001B[43mstart_stream\u001B[49m\u001B[43m(\u001B[49m\u001B[43mOutputStream\u001B[49m\u001B[43m,\u001B[49m\u001B[43m \u001B[49m\u001B[43msamplerate\u001B[49m\u001B[43m,\u001B[49m\u001B[43m \u001B[49m\u001B[43mctx\u001B[49m\u001B[38;5;241;43m.\u001B[39;49m\u001B[43moutput_channels\u001B[49m\u001B[43m,\u001B[49m\n\u001B[1;32m    176\u001B[0m \u001B[43m                 \u001B[49m\u001B[43mctx\u001B[49m\u001B[38;5;241;43m.\u001B[39;49m\u001B[43moutput_dtype\u001B[49m\u001B[43m,\u001B[49m\u001B[43m \u001B[49m\u001B[43mcallback\u001B[49m\u001B[43m,\u001B[49m\u001B[43m \u001B[49m\u001B[43mblocking\u001B[49m\u001B[43m,\u001B[49m\n\u001B[1;32m    177\u001B[0m \u001B[43m                 \u001B[49m\u001B[43mprime_output_buffers_using_stream_callback\u001B[49m\u001B[38;5;241;43m=\u001B[39;49m\u001B[38;5;28;43;01mFalse\u001B[39;49;00m\u001B[43m,\u001B[49m\n\u001B[1;32m    178\u001B[0m \u001B[43m                 \u001B[49m\u001B[38;5;241;43m*\u001B[39;49m\u001B[38;5;241;43m*\u001B[39;49m\u001B[43mkwargs\u001B[49m\u001B[43m)\u001B[49m\n",
      "File \u001B[0;32m~/PycharmProjects/pythonProject/venv/lib/python3.9/site-packages/sounddevice.py:2582\u001B[0m, in \u001B[0;36m_CallbackContext.start_stream\u001B[0;34m(self, StreamClass, samplerate, channels, dtype, callback, blocking, **kwargs)\u001B[0m\n\u001B[1;32m   2579\u001B[0m \u001B[38;5;28;01mdef\u001B[39;00m \u001B[38;5;21mstart_stream\u001B[39m(\u001B[38;5;28mself\u001B[39m, StreamClass, samplerate, channels, dtype, callback,\n\u001B[1;32m   2580\u001B[0m                  blocking, \u001B[38;5;241m*\u001B[39m\u001B[38;5;241m*\u001B[39mkwargs):\n\u001B[1;32m   2581\u001B[0m     stop()  \u001B[38;5;66;03m# Stop previous playback/recording\u001B[39;00m\n\u001B[0;32m-> 2582\u001B[0m     \u001B[38;5;28mself\u001B[39m\u001B[38;5;241m.\u001B[39mstream \u001B[38;5;241m=\u001B[39m \u001B[43mStreamClass\u001B[49m\u001B[43m(\u001B[49m\u001B[43msamplerate\u001B[49m\u001B[38;5;241;43m=\u001B[39;49m\u001B[43msamplerate\u001B[49m\u001B[43m,\u001B[49m\n\u001B[1;32m   2583\u001B[0m \u001B[43m                              \u001B[49m\u001B[43mchannels\u001B[49m\u001B[38;5;241;43m=\u001B[39;49m\u001B[43mchannels\u001B[49m\u001B[43m,\u001B[49m\n\u001B[1;32m   2584\u001B[0m \u001B[43m                              \u001B[49m\u001B[43mdtype\u001B[49m\u001B[38;5;241;43m=\u001B[39;49m\u001B[43mdtype\u001B[49m\u001B[43m,\u001B[49m\n\u001B[1;32m   2585\u001B[0m \u001B[43m                              \u001B[49m\u001B[43mcallback\u001B[49m\u001B[38;5;241;43m=\u001B[39;49m\u001B[43mcallback\u001B[49m\u001B[43m,\u001B[49m\n\u001B[1;32m   2586\u001B[0m \u001B[43m                              \u001B[49m\u001B[43mfinished_callback\u001B[49m\u001B[38;5;241;43m=\u001B[39;49m\u001B[38;5;28;43mself\u001B[39;49m\u001B[38;5;241;43m.\u001B[39;49m\u001B[43mfinished_callback\u001B[49m\u001B[43m,\u001B[49m\n\u001B[1;32m   2587\u001B[0m \u001B[43m                              \u001B[49m\u001B[38;5;241;43m*\u001B[39;49m\u001B[38;5;241;43m*\u001B[39;49m\u001B[43mkwargs\u001B[49m\u001B[43m)\u001B[49m\n\u001B[1;32m   2588\u001B[0m     \u001B[38;5;28mself\u001B[39m\u001B[38;5;241m.\u001B[39mstream\u001B[38;5;241m.\u001B[39mstart()\n\u001B[1;32m   2589\u001B[0m     \u001B[38;5;28;01mglobal\u001B[39;00m _last_callback\n",
      "File \u001B[0;32m~/PycharmProjects/pythonProject/venv/lib/python3.9/site-packages/sounddevice.py:1494\u001B[0m, in \u001B[0;36mOutputStream.__init__\u001B[0;34m(self, samplerate, blocksize, device, channels, dtype, latency, extra_settings, callback, finished_callback, clip_off, dither_off, never_drop_input, prime_output_buffers_using_stream_callback)\u001B[0m\n\u001B[1;32m   1464\u001B[0m \u001B[38;5;28;01mdef\u001B[39;00m \u001B[38;5;21m__init__\u001B[39m(\u001B[38;5;28mself\u001B[39m, samplerate\u001B[38;5;241m=\u001B[39m\u001B[38;5;28;01mNone\u001B[39;00m, blocksize\u001B[38;5;241m=\u001B[39m\u001B[38;5;28;01mNone\u001B[39;00m,\n\u001B[1;32m   1465\u001B[0m              device\u001B[38;5;241m=\u001B[39m\u001B[38;5;28;01mNone\u001B[39;00m, channels\u001B[38;5;241m=\u001B[39m\u001B[38;5;28;01mNone\u001B[39;00m, dtype\u001B[38;5;241m=\u001B[39m\u001B[38;5;28;01mNone\u001B[39;00m, latency\u001B[38;5;241m=\u001B[39m\u001B[38;5;28;01mNone\u001B[39;00m,\n\u001B[1;32m   1466\u001B[0m              extra_settings\u001B[38;5;241m=\u001B[39m\u001B[38;5;28;01mNone\u001B[39;00m, callback\u001B[38;5;241m=\u001B[39m\u001B[38;5;28;01mNone\u001B[39;00m, finished_callback\u001B[38;5;241m=\u001B[39m\u001B[38;5;28;01mNone\u001B[39;00m,\n\u001B[1;32m   1467\u001B[0m              clip_off\u001B[38;5;241m=\u001B[39m\u001B[38;5;28;01mNone\u001B[39;00m, dither_off\u001B[38;5;241m=\u001B[39m\u001B[38;5;28;01mNone\u001B[39;00m, never_drop_input\u001B[38;5;241m=\u001B[39m\u001B[38;5;28;01mNone\u001B[39;00m,\n\u001B[1;32m   1468\u001B[0m              prime_output_buffers_using_stream_callback\u001B[38;5;241m=\u001B[39m\u001B[38;5;28;01mNone\u001B[39;00m):\n\u001B[1;32m   1469\u001B[0m     \u001B[38;5;124;03m\"\"\"PortAudio output stream (using NumPy).\u001B[39;00m\n\u001B[1;32m   1470\u001B[0m \n\u001B[1;32m   1471\u001B[0m \u001B[38;5;124;03m    This has the same methods and attributes as `Stream`, except\u001B[39;00m\n\u001B[0;32m   (...)\u001B[0m\n\u001B[1;32m   1492\u001B[0m \n\u001B[1;32m   1493\u001B[0m \u001B[38;5;124;03m    \"\"\"\u001B[39;00m\n\u001B[0;32m-> 1494\u001B[0m     \u001B[43m_StreamBase\u001B[49m\u001B[38;5;241;43m.\u001B[39;49m\u001B[38;5;21;43m__init__\u001B[39;49m\u001B[43m(\u001B[49m\u001B[38;5;28;43mself\u001B[39;49m\u001B[43m,\u001B[49m\u001B[43m \u001B[49m\u001B[43mkind\u001B[49m\u001B[38;5;241;43m=\u001B[39;49m\u001B[38;5;124;43m'\u001B[39;49m\u001B[38;5;124;43moutput\u001B[39;49m\u001B[38;5;124;43m'\u001B[39;49m\u001B[43m,\u001B[49m\u001B[43m \u001B[49m\u001B[43mwrap_callback\u001B[49m\u001B[38;5;241;43m=\u001B[39;49m\u001B[38;5;124;43m'\u001B[39;49m\u001B[38;5;124;43marray\u001B[39;49m\u001B[38;5;124;43m'\u001B[39;49m\u001B[43m,\u001B[49m\n\u001B[1;32m   1495\u001B[0m \u001B[43m                         \u001B[49m\u001B[38;5;241;43m*\u001B[39;49m\u001B[38;5;241;43m*\u001B[39;49m\u001B[43m_remove_self\u001B[49m\u001B[43m(\u001B[49m\u001B[38;5;28;43mlocals\u001B[39;49m\u001B[43m(\u001B[49m\u001B[43m)\u001B[49m\u001B[43m)\u001B[49m\u001B[43m)\u001B[49m\n",
      "File \u001B[0;32m~/PycharmProjects/pythonProject/venv/lib/python3.9/site-packages/sounddevice.py:898\u001B[0m, in \u001B[0;36m_StreamBase.__init__\u001B[0;34m(self, kind, samplerate, blocksize, device, channels, dtype, latency, extra_settings, callback, finished_callback, clip_off, dither_off, never_drop_input, prime_output_buffers_using_stream_callback, userdata, wrap_callback)\u001B[0m\n\u001B[1;32m    896\u001B[0m     userdata \u001B[38;5;241m=\u001B[39m _ffi\u001B[38;5;241m.\u001B[39mNULL\n\u001B[1;32m    897\u001B[0m \u001B[38;5;28mself\u001B[39m\u001B[38;5;241m.\u001B[39m_ptr \u001B[38;5;241m=\u001B[39m _ffi\u001B[38;5;241m.\u001B[39mnew(\u001B[38;5;124m'\u001B[39m\u001B[38;5;124mPaStream**\u001B[39m\u001B[38;5;124m'\u001B[39m)\n\u001B[0;32m--> 898\u001B[0m \u001B[43m_check\u001B[49m\u001B[43m(\u001B[49m\u001B[43m_lib\u001B[49m\u001B[38;5;241;43m.\u001B[39;49m\u001B[43mPa_OpenStream\u001B[49m\u001B[43m(\u001B[49m\u001B[38;5;28;43mself\u001B[39;49m\u001B[38;5;241;43m.\u001B[39;49m\u001B[43m_ptr\u001B[49m\u001B[43m,\u001B[49m\u001B[43m \u001B[49m\u001B[43miparameters\u001B[49m\u001B[43m,\u001B[49m\u001B[43m \u001B[49m\u001B[43moparameters\u001B[49m\u001B[43m,\u001B[49m\n\u001B[1;32m    899\u001B[0m \u001B[43m                          \u001B[49m\u001B[43msamplerate\u001B[49m\u001B[43m,\u001B[49m\u001B[43m \u001B[49m\u001B[43mblocksize\u001B[49m\u001B[43m,\u001B[49m\u001B[43m \u001B[49m\u001B[43mstream_flags\u001B[49m\u001B[43m,\u001B[49m\n\u001B[1;32m    900\u001B[0m \u001B[43m                          \u001B[49m\u001B[43mcallback_ptr\u001B[49m\u001B[43m,\u001B[49m\u001B[43m \u001B[49m\u001B[43muserdata\u001B[49m\u001B[43m)\u001B[49m\u001B[43m,\u001B[49m\n\u001B[1;32m    901\u001B[0m \u001B[43m       \u001B[49m\u001B[38;5;124;43mf\u001B[39;49m\u001B[38;5;124;43m'\u001B[39;49m\u001B[38;5;124;43mError opening \u001B[39;49m\u001B[38;5;132;43;01m{\u001B[39;49;00m\u001B[38;5;28;43mself\u001B[39;49m\u001B[38;5;241;43m.\u001B[39;49m\u001B[38;5;18;43m__class__\u001B[39;49m\u001B[38;5;241;43m.\u001B[39;49m\u001B[38;5;18;43m__name__\u001B[39;49m\u001B[38;5;132;43;01m}\u001B[39;49;00m\u001B[38;5;124;43m'\u001B[39;49m\u001B[43m)\u001B[49m\n\u001B[1;32m    903\u001B[0m \u001B[38;5;66;03m# dereference PaStream** --> PaStream*\u001B[39;00m\n\u001B[1;32m    904\u001B[0m \u001B[38;5;28mself\u001B[39m\u001B[38;5;241m.\u001B[39m_ptr \u001B[38;5;241m=\u001B[39m \u001B[38;5;28mself\u001B[39m\u001B[38;5;241m.\u001B[39m_ptr[\u001B[38;5;241m0\u001B[39m]\n",
      "File \u001B[0;32m~/PycharmProjects/pythonProject/venv/lib/python3.9/site-packages/sounddevice.py:2747\u001B[0m, in \u001B[0;36m_check\u001B[0;34m(err, msg)\u001B[0m\n\u001B[1;32m   2744\u001B[0m     hosterror_info \u001B[38;5;241m=\u001B[39m host_api, info\u001B[38;5;241m.\u001B[39merrorCode, hosterror_text\n\u001B[1;32m   2745\u001B[0m     \u001B[38;5;28;01mraise\u001B[39;00m PortAudioError(errormsg, err, hosterror_info)\n\u001B[0;32m-> 2747\u001B[0m \u001B[38;5;28;01mraise\u001B[39;00m PortAudioError(errormsg, err)\n",
      "\u001B[0;31mPortAudioError\u001B[0m: Error opening OutputStream: Internal PortAudio error [PaErrorCode -9986]"
     ]
    }
   ],
   "source": [
    "for index in range(10000, 15000):\n",
    "    if(max_index(train_label[index]) == 1):\n",
    "        print(max_index(model.predict(np.array((train_wav[index])).reshape((1, 8000, 1)))[0]))\n",
    "        print(max_index(train_label[index]))\n",
    "        sd.play(train_wav[index].flatten(), 8000)\n",
    "        print(\"____\")\n",
    "        break"
   ],
   "metadata": {
    "collapsed": false
   }
  },
  {
   "cell_type": "code",
   "execution_count": null,
   "outputs": [],
   "source": [],
   "metadata": {
    "collapsed": false
   }
  },
  {
   "cell_type": "code",
   "execution_count": null,
   "outputs": [],
   "source": [],
   "metadata": {
    "collapsed": false
   }
  },
  {
   "cell_type": "code",
   "execution_count": null,
   "outputs": [],
   "source": [
    "print(set(label_vals.flatten()))"
   ],
   "metadata": {
    "collapsed": false
   }
  },
  {
   "cell_type": "code",
   "execution_count": 200,
   "outputs": [
    {
     "data": {
      "text/plain": "{'down',\n 'go',\n 'left',\n 'no',\n 'off',\n 'on',\n 'right',\n 'silence',\n 'stop',\n 'unknown',\n 'up',\n 'yes'}"
     },
     "execution_count": 200,
     "metadata": {},
     "output_type": "execute_result"
    }
   ],
   "source": [
    "set(label_vals.flatten())"
   ],
   "metadata": {
    "collapsed": false
   }
  },
  {
   "cell_type": "code",
   "execution_count": null,
   "outputs": [],
   "source": [
    ","
   ],
   "metadata": {
    "collapsed": false
   }
  }
 ],
 "metadata": {
  "kernelspec": {
   "display_name": "Python 3",
   "language": "python",
   "name": "python3"
  },
  "language_info": {
   "name": "python",
   "version": "3.6.6",
   "mimetype": "text/x-python",
   "codemirror_mode": {
    "name": "ipython",
    "version": 3
   },
   "pygments_lexer": "ipython3",
   "nbconvert_exporter": "python",
   "file_extension": ".py"
  }
 },
 "nbformat": 4,
 "nbformat_minor": 1
}
